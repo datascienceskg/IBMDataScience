{
  "metadata": {
    "kernelspec": {
      "name": "python",
      "display_name": "Python (Pyodide)",
      "language": "python"
    },
    "language_info": {
      "codemirror_mode": {
        "name": "python",
        "version": 3
      },
      "file_extension": ".py",
      "mimetype": "text/x-python",
      "name": "python",
      "nbconvert_exporter": "python",
      "pygments_lexer": "ipython3",
      "version": "3.8"
    }
  },
  "nbformat_minor": 5,
  "nbformat": 4,
  "cells": [
    {
      "id": "6208a8c2-6f90-48a3-a7d8-1c1cd2fc73d0",
      "cell_type": "markdown",
      "source": "# Data Science Tools and Ecosystem",
      "metadata": {}
    },
    {
      "id": "b1d6727a-d689-4f9c-870b-74e5d2a90b67",
      "cell_type": "markdown",
      "source": "In this notebook, Data Science Tools and Ecosystem are summarized.",
      "metadata": {}
    },
    {
      "id": "0323caed-c79c-4edb-8878-4b2a121e348e",
      "cell_type": "markdown",
      "source": "**Objectives**\n- List popular languages for Data Science\n- List commonly used libraries for Data Science\n- Examples of arithmetic expressions in Python ",
      "metadata": {}
    },
    {
      "id": "255f896a-6bf3-4884-832e-4def1e11a944",
      "cell_type": "markdown",
      "source": "Some of the popular languages that Data Scientists use are:\n1. Python \n2. R\n3. SQL ",
      "metadata": {}
    },
    {
      "id": "d0f8bbcb-2ac9-427d-b032-beb511dc2eaa",
      "cell_type": "markdown",
      "source": "Some of the commonly used libraries used by Data Scientists include:\n1. pandas\n2. numpy\n3. scipy",
      "metadata": {}
    },
    {
      "id": "acb8eb35-b9e1-4c71-93f1-8ff776607390",
      "cell_type": "markdown",
      "source": "| Data Science Tools |\n| ------ |\n| Apache Spark |\n| Tensorflow |\n| Apache Hadoop |",
      "metadata": {}
    },
    {
      "id": "d15f1332-5803-4db7-8221-52f3e3054db7",
      "cell_type": "markdown",
      "source": "### Below are a few examples of evaluating arithmetic expressions in Python",
      "metadata": {}
    },
    {
      "id": "e8c1e19e-c666-44a0-ada4-3d90380c0da2",
      "cell_type": "code",
      "source": "# This a simple arithmetic expression to mutiply then add integers\n(3*4)+5",
      "metadata": {
        "trusted": true
      },
      "outputs": [
        {
          "execution_count": 5,
          "output_type": "execute_result",
          "data": {
            "text/plain": "17"
          },
          "metadata": {}
        }
      ],
      "execution_count": 5
    },
    {
      "id": "0ce0cca9-46e2-49c2-b166-572af5883366",
      "cell_type": "code",
      "source": "# This will convert 200 minutes to hours by diving by 60\n200//60",
      "metadata": {
        "trusted": true
      },
      "outputs": [
        {
          "execution_count": 6,
          "output_type": "execute_result",
          "data": {
            "text/plain": "3"
          },
          "metadata": {}
        }
      ],
      "execution_count": 6
    },
    {
      "id": "16f56cc5-ae27-4b43-8212-c631d69c7e65",
      "cell_type": "markdown",
      "source": "## Author\nKonstantinos Seferiadis",
      "metadata": {}
    }
  ]
}